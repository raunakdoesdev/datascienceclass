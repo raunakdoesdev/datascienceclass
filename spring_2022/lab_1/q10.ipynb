{
 "cells": [
  {
   "cell_type": "code",
   "execution_count": 1,
   "metadata": {},
   "outputs": [],
   "source": [
    "import sqlite3 as sql\n",
    "import pandas as pd\n",
    "\n",
    "def runSQL(query_num, store):\n",
    "    with sql.connect(\"data/imdb.db\") as conn, open(\"queries/q{}.sql\".format(query_num)) as in_query:\n",
    "        cur = conn.cursor()\n",
    "        df = pd.read_sql_query(in_query.read(), conn)\n",
    "        pd.set_option(\"display.max_rows\", 100)\n",
    "        if store:\n",
    "            df.to_csv(f\"submission/sql_sol{query_num}.csv\", index=False)\n",
    "        return df\n",
    "\n"
   ]
  },
  {
   "cell_type": "code",
   "execution_count": 2,
   "metadata": {},
   "outputs": [],
   "source": [
    "df = runSQL(10, True)"
   ]
  },
  {
   "cell_type": "code",
   "execution_count": null,
   "metadata": {},
   "outputs": [],
   "source": []
  }
 ],
 "metadata": {
  "interpreter": {
   "hash": "b2e274131f6aa228d249169a78eee6e103b04c79e7506e7145a39e635820fcbd"
  },
  "kernelspec": {
   "display_name": "Python 3.9.7 ('6s079')",
   "language": "python",
   "name": "python3"
  },
  "language_info": {
   "codemirror_mode": {
    "name": "ipython",
    "version": 3
   },
   "file_extension": ".py",
   "mimetype": "text/x-python",
   "name": "python",
   "nbconvert_exporter": "python",
   "pygments_lexer": "ipython3",
   "version": "3.9.7"
  },
  "orig_nbformat": 4
 },
 "nbformat": 4,
 "nbformat_minor": 2
}
