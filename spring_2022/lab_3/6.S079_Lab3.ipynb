{
 "cells": [
  {
   "cell_type": "markdown",
   "id": "fantastic-invitation",
   "metadata": {},
   "source": [
    "# Machine Learning with Python\n",
    "\n",
    "The aim of this lab is to implement a complete ML project in python. We will go through the steps of data exploration, cleaning and transformation followed by model training and selection.\n",
    "\n",
    "The lab consists of two parts. The first part is an interactive tutorial adapted from [Aurélien Géron's excellent ML book](https://github.com/ageron/handson-ml2) with some modifications to make it a classification tutorial instead of a regression one. We will learn to classify neighborhoods by median house value. The tutorial will contains conceptual questions as well as fill-in code that we'll give you a few minutes to write.\n",
    "\n",
    "In the second part of this lab, we expect you to pick any dataset of your own choosing and go through the steps mentioned above. You should try at least 3 different classes of models, and one of them should be an `xgboost` classifier or regressor. We recommend that you pick a dataset from [Kaggle](https://www.kaggle.com/). We will be very flexible in grading this lab; we just need to see that you've taken the right steps. You should submit your notebook to gradescope. Submission instructions will be given on Piazza."
   ]
  },
  {
   "cell_type": "markdown",
   "id": "external-blend",
   "metadata": {},
   "source": [
    "## Setup\n",
    "Run the following code to install libraries and download required files."
   ]
  },
  {
   "cell_type": "code",
   "execution_count": 2,
   "id": "european-guyana",
   "metadata": {},
   "outputs": [
    {
     "name": "stdout",
     "output_type": "stream",
     "text": [
      "Requirement already satisfied: sklearn in /Users/raunakc/anaconda3/envs/6s079/lib/python3.9/site-packages (0.0)\n",
      "Requirement already satisfied: matplotlib in /Users/raunakc/anaconda3/envs/6s079/lib/python3.9/site-packages (3.5.1)\n",
      "Requirement already satisfied: numpy in /Users/raunakc/anaconda3/envs/6s079/lib/python3.9/site-packages (1.22.2)\n",
      "Requirement already satisfied: pandas in /Users/raunakc/anaconda3/envs/6s079/lib/python3.9/site-packages (1.3.5)\n",
      "Requirement already satisfied: xgboost in /Users/raunakc/anaconda3/envs/6s079/lib/python3.9/site-packages (1.6.0.dev0)\n",
      "Requirement already satisfied: scikit-learn in /Users/raunakc/anaconda3/envs/6s079/lib/python3.9/site-packages (from sklearn) (1.0.2)\n",
      "Requirement already satisfied: python-dateutil>=2.7 in /Users/raunakc/anaconda3/envs/6s079/lib/python3.9/site-packages (from matplotlib) (2.8.2)\n",
      "Requirement already satisfied: kiwisolver>=1.0.1 in /Users/raunakc/anaconda3/envs/6s079/lib/python3.9/site-packages (from matplotlib) (1.3.2)\n",
      "Requirement already satisfied: fonttools>=4.22.0 in /Users/raunakc/anaconda3/envs/6s079/lib/python3.9/site-packages (from matplotlib) (4.28.5)\n",
      "Requirement already satisfied: pyparsing>=2.2.1 in /Users/raunakc/anaconda3/envs/6s079/lib/python3.9/site-packages (from matplotlib) (3.0.6)\n",
      "Requirement already satisfied: packaging>=20.0 in /Users/raunakc/anaconda3/envs/6s079/lib/python3.9/site-packages (from matplotlib) (21.3)\n",
      "Requirement already satisfied: cycler>=0.10 in /Users/raunakc/anaconda3/envs/6s079/lib/python3.9/site-packages (from matplotlib) (0.11.0)\n",
      "Requirement already satisfied: pillow>=6.2.0 in /Users/raunakc/anaconda3/envs/6s079/lib/python3.9/site-packages (from matplotlib) (9.0.0)\n",
      "Requirement already satisfied: pytz>=2017.3 in /Users/raunakc/anaconda3/envs/6s079/lib/python3.9/site-packages (from pandas) (2021.3)\n",
      "Requirement already satisfied: scipy in /Users/raunakc/anaconda3/envs/6s079/lib/python3.9/site-packages (from xgboost) (1.8.0)\n",
      "Requirement already satisfied: six>=1.5 in /Users/raunakc/anaconda3/envs/6s079/lib/python3.9/site-packages (from python-dateutil>=2.7->matplotlib) (1.16.0)\n",
      "Requirement already satisfied: joblib>=0.11 in /Users/raunakc/anaconda3/envs/6s079/lib/python3.9/site-packages (from scikit-learn->sklearn) (1.1.0)\n",
      "Requirement already satisfied: threadpoolctl>=2.0.0 in /Users/raunakc/anaconda3/envs/6s079/lib/python3.9/site-packages (from scikit-learn->sklearn) (3.1.0)\n",
      "Note: you may need to restart the kernel to use updated packages.\n"
     ]
    }
   ],
   "source": [
    "import sys\n",
    "assert sys.version_info >= (3, 8) # You might later get errors if you have a lower version.\n",
    "\n",
    "# Install necessary libraries\n",
    "%pip install sklearn matplotlib numpy pandas xgboost\n",
    "\n",
    "# Do all necessary imports\n",
    "import sklearn\n",
    "import numpy as np\n",
    "import pandas as pd\n",
    "import os\n",
    "%matplotlib inline\n",
    "import matplotlib as mpl\n",
    "import matplotlib.pyplot as plt\n",
    "import xgboost\n",
    "mpl.rc('axes', labelsize=14)\n",
    "mpl.rc('xtick', labelsize=12)\n",
    "mpl.rc('ytick', labelsize=12)"
   ]
  },
  {
   "cell_type": "code",
   "execution_count": 3,
   "id": "modified-depth",
   "metadata": {},
   "outputs": [],
   "source": [
    "# Download necessary files\n",
    "import tarfile\n",
    "import urllib.request\n",
    "\n",
    "def perform_downloads():\n",
    "    # Download data file\n",
    "    root_url = \"https://raw.githubusercontent.com/ageron/handson-ml2/master/\"\n",
    "    housing_url = f\"{root_url}datasets/housing/housing.tgz\"\n",
    "    tgz_path = \"housing.tgz\"\n",
    "    urllib.request.urlretrieve(housing_url, tgz_path)\n",
    "    housing_tgz = tarfile.open(tgz_path)\n",
    "    housing_tgz.extractall(path=\"./\")\n",
    "    housing_tgz.close()\n",
    "    \n",
    "\n",
    "def to_classification():\n",
    "    # Original dataset was for a regression tasks.\n",
    "    # Transform it to classification task.\n",
    "    classes = ['LOW', 'MEDIUM', 'HIGH']\n",
    "    housing = pd.read_csv('housing.csv')\n",
    "    housing[\"house_value_class\"] = pd.cut(housing[\"median_house_value\"], bins=[0.0, 200000, 400000, np.inf], labels=classes)\n",
    "    housing.drop('median_house_value', axis=1, inplace=True)\n",
    "    housing.to_csv(\"housing_classification.csv\", index=False)\n",
    "\n",
    "    \n",
    "    \n",
    "perform_downloads()\n",
    "to_classification()"
   ]
  },
  {
   "cell_type": "markdown",
   "id": "metallic-rally",
   "metadata": {},
   "source": [
    "## Preliminary\n",
    "Before we begin, we should split our data into a training and a testing set. All our learning should be done on the training set. The testing set is going to be used only once after training.  \n",
    "**Q: Why is a good idea?**\n",
    "\n",
    "You could manually implement the splitting logic, but Scikit-Learn has builtin functions that do this for us. There are many splitting methodologies, but the simplest one that works well for us is as follows:"
   ]
  },
  {
   "cell_type": "code",
   "execution_count": 4,
   "id": "young-candidate",
   "metadata": {},
   "outputs": [
    {
     "name": "stdout",
     "output_type": "stream",
     "text": [
      "data size=20640; training size=16512; testing size=4128\n"
     ]
    }
   ],
   "source": [
    "# Import splitting function\n",
    "from sklearn.model_selection import train_test_split\n",
    "\n",
    "# Read data\n",
    "data = pd.read_csv(\"housing_classification.csv\")\n",
    "\n",
    "# Split data. 80% is used as training; 20% as testing. The data will be randomly split.\n",
    "train_set, test_set = train_test_split(data, test_size=0.2, random_state=37)\n",
    "\n",
    "print(f\"data size={len(data)}; training size={len(train_set)}; testing size={len(test_set)}\")"
   ]
  },
  {
   "cell_type": "markdown",
   "id": "unnecessary-words",
   "metadata": {},
   "source": [
    "## Data Exploration"
   ]
  },
  {
   "cell_type": "code",
   "execution_count": 5,
   "id": "trained-style",
   "metadata": {},
   "outputs": [
    {
     "data": {
      "text/html": [
       "<div>\n",
       "<style scoped>\n",
       "    .dataframe tbody tr th:only-of-type {\n",
       "        vertical-align: middle;\n",
       "    }\n",
       "\n",
       "    .dataframe tbody tr th {\n",
       "        vertical-align: top;\n",
       "    }\n",
       "\n",
       "    .dataframe thead th {\n",
       "        text-align: right;\n",
       "    }\n",
       "</style>\n",
       "<table border=\"1\" class=\"dataframe\">\n",
       "  <thead>\n",
       "    <tr style=\"text-align: right;\">\n",
       "      <th></th>\n",
       "      <th>longitude</th>\n",
       "      <th>latitude</th>\n",
       "      <th>housing_median_age</th>\n",
       "      <th>total_rooms</th>\n",
       "      <th>total_bedrooms</th>\n",
       "      <th>population</th>\n",
       "      <th>households</th>\n",
       "      <th>median_income</th>\n",
       "      <th>ocean_proximity</th>\n",
       "      <th>house_value_class</th>\n",
       "    </tr>\n",
       "  </thead>\n",
       "  <tbody>\n",
       "    <tr>\n",
       "      <th>9694</th>\n",
       "      <td>-121.63</td>\n",
       "      <td>36.68</td>\n",
       "      <td>24.0</td>\n",
       "      <td>2591.0</td>\n",
       "      <td>739.0</td>\n",
       "      <td>3243.0</td>\n",
       "      <td>702.0</td>\n",
       "      <td>2.1766</td>\n",
       "      <td>&lt;1H OCEAN</td>\n",
       "      <td>LOW</td>\n",
       "    </tr>\n",
       "    <tr>\n",
       "      <th>18859</th>\n",
       "      <td>-122.09</td>\n",
       "      <td>41.32</td>\n",
       "      <td>52.0</td>\n",
       "      <td>4019.0</td>\n",
       "      <td>824.0</td>\n",
       "      <td>1728.0</td>\n",
       "      <td>706.0</td>\n",
       "      <td>2.2462</td>\n",
       "      <td>INLAND</td>\n",
       "      <td>LOW</td>\n",
       "    </tr>\n",
       "    <tr>\n",
       "      <th>11074</th>\n",
       "      <td>-117.86</td>\n",
       "      <td>33.80</td>\n",
       "      <td>34.0</td>\n",
       "      <td>1793.0</td>\n",
       "      <td>480.0</td>\n",
       "      <td>1722.0</td>\n",
       "      <td>441.0</td>\n",
       "      <td>2.8235</td>\n",
       "      <td>&lt;1H OCEAN</td>\n",
       "      <td>LOW</td>\n",
       "    </tr>\n",
       "    <tr>\n",
       "      <th>10858</th>\n",
       "      <td>-117.86</td>\n",
       "      <td>33.71</td>\n",
       "      <td>36.0</td>\n",
       "      <td>191.0</td>\n",
       "      <td>42.0</td>\n",
       "      <td>208.0</td>\n",
       "      <td>37.0</td>\n",
       "      <td>3.3750</td>\n",
       "      <td>&lt;1H OCEAN</td>\n",
       "      <td>LOW</td>\n",
       "    </tr>\n",
       "    <tr>\n",
       "      <th>16462</th>\n",
       "      <td>-121.27</td>\n",
       "      <td>38.11</td>\n",
       "      <td>11.0</td>\n",
       "      <td>3163.0</td>\n",
       "      <td>794.0</td>\n",
       "      <td>2106.0</td>\n",
       "      <td>762.0</td>\n",
       "      <td>2.4482</td>\n",
       "      <td>INLAND</td>\n",
       "      <td>LOW</td>\n",
       "    </tr>\n",
       "  </tbody>\n",
       "</table>\n",
       "</div>"
      ],
      "text/plain": [
       "       longitude  latitude  housing_median_age  total_rooms  total_bedrooms  \\\n",
       "9694     -121.63     36.68                24.0       2591.0           739.0   \n",
       "18859    -122.09     41.32                52.0       4019.0           824.0   \n",
       "11074    -117.86     33.80                34.0       1793.0           480.0   \n",
       "10858    -117.86     33.71                36.0        191.0            42.0   \n",
       "16462    -121.27     38.11                11.0       3163.0           794.0   \n",
       "\n",
       "       population  households  median_income ocean_proximity house_value_class  \n",
       "9694       3243.0       702.0         2.1766       <1H OCEAN               LOW  \n",
       "18859      1728.0       706.0         2.2462          INLAND               LOW  \n",
       "11074      1722.0       441.0         2.8235       <1H OCEAN               LOW  \n",
       "10858       208.0        37.0         3.3750       <1H OCEAN               LOW  \n",
       "16462      2106.0       762.0         2.4482          INLAND               LOW  "
      ]
     },
     "execution_count": 5,
     "metadata": {},
     "output_type": "execute_result"
    }
   ],
   "source": [
    "# Read data, and take look at the attributes\n",
    "housing = train_set # Rename for convenience\n",
    "housing.head()"
   ]
  },
  {
   "cell_type": "markdown",
   "id": "occupational-therapy",
   "metadata": {},
   "source": [
    "Each row contains housing data aggregated by *block group*, which is how the US officially reports housing data. Our goal is to predict the housing value class (low, medium or high) given information about a block. Let's take a look at the columns within the dataframe."
   ]
  },
  {
   "cell_type": "code",
   "execution_count": 6,
   "id": "israeli-natural",
   "metadata": {},
   "outputs": [
    {
     "name": "stdout",
     "output_type": "stream",
     "text": [
      "<class 'pandas.core.frame.DataFrame'>\n",
      "Int64Index: 16512 entries, 9694 to 1935\n",
      "Data columns (total 10 columns):\n",
      " #   Column              Non-Null Count  Dtype  \n",
      "---  ------              --------------  -----  \n",
      " 0   longitude           16512 non-null  float64\n",
      " 1   latitude            16512 non-null  float64\n",
      " 2   housing_median_age  16512 non-null  float64\n",
      " 3   total_rooms         16512 non-null  float64\n",
      " 4   total_bedrooms      16345 non-null  float64\n",
      " 5   population          16512 non-null  float64\n",
      " 6   households          16512 non-null  float64\n",
      " 7   median_income       16512 non-null  float64\n",
      " 8   ocean_proximity     16512 non-null  object \n",
      " 9   house_value_class   16512 non-null  object \n",
      "dtypes: float64(8), object(2)\n",
      "memory usage: 1.4+ MB\n"
     ]
    }
   ],
   "source": [
    "# Info gives a quick summary\n",
    "housing.info()"
   ]
  },
  {
   "cell_type": "markdown",
   "id": "promotional-worcester",
   "metadata": {},
   "source": [
    "First, note that the `total_bedrooms` columns contains missing values.  \n",
    "**Q: What techniques can we use to handle them?**. We'll implement one of them in the *Data Preparation* section."
   ]
  },
  {
   "cell_type": "markdown",
   "id": "dca12b05-6c9c-47d2-ba84-6272829991c7",
   "metadata": {},
   "source": [
    "---\n",
    "\n",
    "We also note that only the target class `house_value_class` and the feature `ocean_proximity` are categorical. In the following code, find the distinct values both columns:"
   ]
  },
  {
   "cell_type": "code",
   "execution_count": 7,
   "id": "refined-youth",
   "metadata": {},
   "outputs": [
    {
     "name": "stdout",
     "output_type": "stream",
     "text": [
      "LOW       9538\n",
      "MEDIUM    5567\n",
      "HIGH      1407\n",
      "Name: house_value_class, dtype: int64\n",
      "<1H OCEAN     7355\n",
      "INLAND        5196\n",
      "NEAR OCEAN    2139\n",
      "NEAR BAY      1818\n",
      "ISLAND           4\n",
      "Name: ocean_proximity, dtype: int64\n"
     ]
    }
   ],
   "source": [
    "# TODO: Distinct values and count of house_value_class\n",
    "print(housing[\"house_value_class\"].value_counts())\n",
    "\n",
    "# TODO: Distinct values and count of ocean_proximity.\n",
    "print(housing[\"ocean_proximity\"].value_counts())"
   ]
  },
  {
   "cell_type": "markdown",
   "id": "previous-geneva",
   "metadata": {},
   "source": [
    "**Q: What's the standard way of dealing with categorical features in ML algorithms?**. We'll implement this in the *Data Preparation* section."
   ]
  },
  {
   "cell_type": "markdown",
   "id": "fe2b0e77-2b75-4043-8673-6dae0fc09ccd",
   "metadata": {},
   "source": [
    "----\n",
    "\n",
    "As for the numerical attributes, we can quickly summarize their distribution as follows:"
   ]
  },
  {
   "cell_type": "code",
   "execution_count": 8,
   "id": "timely-china",
   "metadata": {},
   "outputs": [
    {
     "data": {
      "text/html": [
       "<div>\n",
       "<style scoped>\n",
       "    .dataframe tbody tr th:only-of-type {\n",
       "        vertical-align: middle;\n",
       "    }\n",
       "\n",
       "    .dataframe tbody tr th {\n",
       "        vertical-align: top;\n",
       "    }\n",
       "\n",
       "    .dataframe thead th {\n",
       "        text-align: right;\n",
       "    }\n",
       "</style>\n",
       "<table border=\"1\" class=\"dataframe\">\n",
       "  <thead>\n",
       "    <tr style=\"text-align: right;\">\n",
       "      <th></th>\n",
       "      <th>longitude</th>\n",
       "      <th>latitude</th>\n",
       "      <th>housing_median_age</th>\n",
       "      <th>total_rooms</th>\n",
       "      <th>total_bedrooms</th>\n",
       "      <th>population</th>\n",
       "      <th>households</th>\n",
       "      <th>median_income</th>\n",
       "    </tr>\n",
       "  </thead>\n",
       "  <tbody>\n",
       "    <tr>\n",
       "      <th>count</th>\n",
       "      <td>16512.000000</td>\n",
       "      <td>16512.000000</td>\n",
       "      <td>16512.000000</td>\n",
       "      <td>16512.000000</td>\n",
       "      <td>16345.000000</td>\n",
       "      <td>16512.000000</td>\n",
       "      <td>16512.000000</td>\n",
       "      <td>16512.000000</td>\n",
       "    </tr>\n",
       "    <tr>\n",
       "      <th>mean</th>\n",
       "      <td>-119.568522</td>\n",
       "      <td>35.626854</td>\n",
       "      <td>28.627786</td>\n",
       "      <td>2644.478622</td>\n",
       "      <td>539.302845</td>\n",
       "      <td>1428.389777</td>\n",
       "      <td>500.421693</td>\n",
       "      <td>3.877276</td>\n",
       "    </tr>\n",
       "    <tr>\n",
       "      <th>std</th>\n",
       "      <td>2.008938</td>\n",
       "      <td>2.137589</td>\n",
       "      <td>12.589142</td>\n",
       "      <td>2187.314665</td>\n",
       "      <td>422.062383</td>\n",
       "      <td>1131.002342</td>\n",
       "      <td>382.423411</td>\n",
       "      <td>1.908253</td>\n",
       "    </tr>\n",
       "    <tr>\n",
       "      <th>min</th>\n",
       "      <td>-124.350000</td>\n",
       "      <td>32.540000</td>\n",
       "      <td>1.000000</td>\n",
       "      <td>8.000000</td>\n",
       "      <td>1.000000</td>\n",
       "      <td>3.000000</td>\n",
       "      <td>1.000000</td>\n",
       "      <td>0.499900</td>\n",
       "    </tr>\n",
       "    <tr>\n",
       "      <th>25%</th>\n",
       "      <td>-121.800000</td>\n",
       "      <td>33.930000</td>\n",
       "      <td>18.000000</td>\n",
       "      <td>1445.000000</td>\n",
       "      <td>295.000000</td>\n",
       "      <td>787.000000</td>\n",
       "      <td>279.000000</td>\n",
       "      <td>2.566350</td>\n",
       "    </tr>\n",
       "    <tr>\n",
       "      <th>50%</th>\n",
       "      <td>-118.490000</td>\n",
       "      <td>34.250000</td>\n",
       "      <td>29.000000</td>\n",
       "      <td>2128.000000</td>\n",
       "      <td>435.000000</td>\n",
       "      <td>1167.000000</td>\n",
       "      <td>410.000000</td>\n",
       "      <td>3.541700</td>\n",
       "    </tr>\n",
       "    <tr>\n",
       "      <th>75%</th>\n",
       "      <td>-118.000000</td>\n",
       "      <td>37.710000</td>\n",
       "      <td>37.000000</td>\n",
       "      <td>3160.000000</td>\n",
       "      <td>648.000000</td>\n",
       "      <td>1728.000000</td>\n",
       "      <td>607.000000</td>\n",
       "      <td>4.750000</td>\n",
       "    </tr>\n",
       "    <tr>\n",
       "      <th>max</th>\n",
       "      <td>-114.310000</td>\n",
       "      <td>41.950000</td>\n",
       "      <td>52.000000</td>\n",
       "      <td>37937.000000</td>\n",
       "      <td>5471.000000</td>\n",
       "      <td>35682.000000</td>\n",
       "      <td>5189.000000</td>\n",
       "      <td>15.000100</td>\n",
       "    </tr>\n",
       "  </tbody>\n",
       "</table>\n",
       "</div>"
      ],
      "text/plain": [
       "          longitude      latitude  housing_median_age   total_rooms  \\\n",
       "count  16512.000000  16512.000000        16512.000000  16512.000000   \n",
       "mean    -119.568522     35.626854           28.627786   2644.478622   \n",
       "std        2.008938      2.137589           12.589142   2187.314665   \n",
       "min     -124.350000     32.540000            1.000000      8.000000   \n",
       "25%     -121.800000     33.930000           18.000000   1445.000000   \n",
       "50%     -118.490000     34.250000           29.000000   2128.000000   \n",
       "75%     -118.000000     37.710000           37.000000   3160.000000   \n",
       "max     -114.310000     41.950000           52.000000  37937.000000   \n",
       "\n",
       "       total_bedrooms    population    households  median_income  \n",
       "count    16345.000000  16512.000000  16512.000000   16512.000000  \n",
       "mean       539.302845   1428.389777    500.421693       3.877276  \n",
       "std        422.062383   1131.002342    382.423411       1.908253  \n",
       "min          1.000000      3.000000      1.000000       0.499900  \n",
       "25%        295.000000    787.000000    279.000000       2.566350  \n",
       "50%        435.000000   1167.000000    410.000000       3.541700  \n",
       "75%        648.000000   1728.000000    607.000000       4.750000  \n",
       "max       5471.000000  35682.000000   5189.000000      15.000100  "
      ]
     },
     "execution_count": 8,
     "metadata": {},
     "output_type": "execute_result"
    }
   ],
   "source": [
    "housing.describe()"
   ]
  },
  {
   "cell_type": "markdown",
   "id": "difficult-tribe",
   "metadata": {},
   "source": [
    "We see that some columns (e.g., `latitude` vs `population`) have very different ranges of values.  \n",
    "**Q: What's the standard way to deal with such differences in numerical data distributions?**. (Also to be implemented in the data prep section).\n",
    "\n",
    "----\n",
    "\n",
    "While these numbers are informative, plots are usually a lot more intuitive. Using [pandas.DataFrame.hist](https://pandas.pydata.org/docs/reference/api/pandas.DataFrame.hist.html), show a histogram for all the numerical columns.  \n",
    "**Q: Briefly describe what stands out most to you?** Hint: Look at the `housing_median_age` column."
   ]
  },
  {
   "cell_type": "code",
   "execution_count": 9,
   "id": "creative-context",
   "metadata": {},
   "outputs": [
    {
     "data": {
      "text/plain": [
       "array([[<AxesSubplot:title={'center':'longitude'}>,\n",
       "        <AxesSubplot:title={'center':'latitude'}>,\n",
       "        <AxesSubplot:title={'center':'housing_median_age'}>],\n",
       "       [<AxesSubplot:title={'center':'total_rooms'}>,\n",
       "        <AxesSubplot:title={'center':'total_bedrooms'}>,\n",
       "        <AxesSubplot:title={'center':'population'}>],\n",
       "       [<AxesSubplot:title={'center':'households'}>,\n",
       "        <AxesSubplot:title={'center':'median_income'}>, <AxesSubplot:>]],\n",
       "      dtype=object)"
      ]
     },
     "execution_count": 9,
     "metadata": {},
     "output_type": "execute_result"
    },
    {
     "data": {
      "image/png": "[encoded data removed]",
      "text/plain": [
       "<Figure size 1080x1080 with 9 Axes>"
      ]
     },
     "metadata": {
      "needs_background": "light"
     },
     "output_type": "display_data"
    }
   ],
   "source": [
    "# TODO: Plot histograms (< 2min)\n",
    "# Hint: Set figure size to (15, 15), and the number of bins to 50 for good formatting.\n",
    "# for col in housing.columns:\n",
    "#     if col not in (\"ocean_proximity\", \"house_value_class\"):\n",
    "#         housing.hist(column=col, bins=50, figsize=(15, 15))\n",
    "#         plt.show()\n",
    "housing.hist(bins=50, figsize=(15, 15))"
   ]
  },
  {
   "cell_type": "markdown",
   "id": "continued-increase",
   "metadata": {},
   "source": [
    "It's also possible to visualize multiple attributes together. Using [pandas.DataFrame.plot](https://pandas.pydata.org/docs/reference/api/pandas.DataFrame.plot.html), we can plot the relationship between total number of rooms and population."
   ]
  },
  {
   "cell_type": "code",
   "execution_count": 10,
   "id": "wooden-negotiation",
   "metadata": {},
   "outputs": [
    {
     "data": {
      "text/plain": [
       "<AxesSubplot:xlabel='population', ylabel='total_rooms'>"
      ]
     },
     "execution_count": 10,
     "metadata": {},
     "output_type": "execute_result"
    },
    {
     "data": {
      "image/png": "[encoded data removed]",
      "text/plain": [
       "<Figure size 432x288 with 1 Axes>"
      ]
     },
     "metadata": {
      "needs_background": "light"
     },
     "output_type": "display_data"
    }
   ],
   "source": [
    "housing.plot(kind=\"scatter\", x=\"population\", y=\"total_rooms\", alpha=0.2)"
   ]
  },
  {
   "cell_type": "markdown",
   "id": "89d8daa1-a244-479b-b199-c94a0fb44b3e",
   "metadata": {},
   "source": [
    "Naturally, we see a fairly linear, positive trend. These two values strongly depend on one another.    \n",
    "**Q: How can you reduce the number of features in the dataset using correlation?**   \n",
    "Since we don't have too many features, we won't worry about this here, but you might have to in your project."
   ]
  },
  {
   "cell_type": "markdown",
   "id": "c70fbc50-347d-4c23-9186-aa0206da5991",
   "metadata": {},
   "source": [
    "----"
   ]
  },
  {
   "cell_type": "markdown",
   "id": "occupational-biology",
   "metadata": {},
   "source": [
    "More interesting visualizations are possible (there will be a lab about them). For now, take a look at the following:  \n",
    "\n",
    "**Q: What pattern does it show?** Hint: [Look at this map.](https://www.google.com/maps/place/California/@36.4998513,-121.7064629,6.55z/data=!4m5!3m4!1s0x808fb9fe5f285e3d:0x8b5109a227086f55!8m2!3d36.778261!4d-119.4179324)"
   ]
  },
  {
   "cell_type": "code",
   "execution_count": 11,
   "id": "offshore-answer",
   "metadata": {},
   "outputs": [
    {
     "data": {
      "text/plain": [
       "<AxesSubplot:xlabel='longitude', ylabel='latitude'>"
      ]
     },
     "execution_count": 11,
     "metadata": {},
     "output_type": "execute_result"
    },
    {
     "data": {
      "image/png": "[encoded data removed]",
      "text/plain": [
       "<Figure size 720x504 with 1 Axes>"
      ]
     },
     "metadata": {
      "needs_background": "light"
     },
     "output_type": "display_data"
    }
   ],
   "source": [
    "colors = {'LOW': 'lightblue', 'MEDIUM': 'lightyellow', 'HIGH': 'red'}\n",
    "\n",
    "housing.plot(kind=\"scatter\", x=\"longitude\", y=\"latitude\", alpha=0.2, s=housing[\"population\"]/100, label=\"population\", figsize=(10,7), c=housing['house_value_class'].map(colors))"
   ]
  },
  {
   "cell_type": "markdown",
   "id": "touched-smith",
   "metadata": {},
   "source": [
    "If interesting patterns exist in the dataset you choose, try showcasing them.\n",
    "\n",
    "---\n",
    "\n",
    "We are now done with data exploration. We know what the data looks like, and what preparation we need to do before moving on to training."
   ]
  },
  {
   "cell_type": "markdown",
   "id": "packed-export",
   "metadata": {},
   "source": [
    "## Data Preparation"
   ]
  },
  {
   "cell_type": "code",
   "execution_count": 12,
   "id": "restricted-remedy",
   "metadata": {},
   "outputs": [],
   "source": [
    "# First separate features from target variables.\n",
    "features = housing.drop(\"house_value_class\", axis=1)\n",
    "target = housing[\"house_value_class\"]"
   ]
  },
  {
   "cell_type": "markdown",
   "id": "multiple-batman",
   "metadata": {},
   "source": [
    "We need the following transformation to make our data work with ML algorithms:\n",
    "1. One hot encoding of the categorical features. \n",
    "2. Median imputation on numerical features.\n",
    "3. Standardize numerical features.\n",
    "4. Encode class labels into ordinals (0, 1, 2 instead of LOW, MEDIUM, HIGH). This is what the ML libraries we'll use expect.\n",
    "\n",
    "`sklearn` has builtin functions for all of these. It also has convenience functions to put them all together.\n",
    "\n",
    "----\n",
    "\n",
    "One hot encoding with `sklearn` works as follows."
   ]
  },
  {
   "cell_type": "code",
   "execution_count": 13,
   "id": "undefined-graph",
   "metadata": {},
   "outputs": [
    {
     "data": {
      "text/plain": [
       "array([[1., 0., 0., 0., 0.],\n",
       "       [0., 1., 0., 0., 0.],\n",
       "       [1., 0., 0., 0., 0.],\n",
       "       ...,\n",
       "       [0., 1., 0., 0., 0.],\n",
       "       [0., 1., 0., 0., 0.],\n",
       "       [0., 1., 0., 0., 0.]])"
      ]
     },
     "execution_count": 13,
     "metadata": {},
     "output_type": "execute_result"
    }
   ],
   "source": [
    "# One hot encoding\n",
    "from sklearn.preprocessing import OneHotEncoder\n",
    "\n",
    "# Get columns to transform.\n",
    "categorical_col_names = ['ocean_proximity'] # stored as a separate variable for later.\n",
    "categorical = features[categorical_col_names]\n",
    "\n",
    "# Do one hot encoding.\n",
    "encoder = OneHotEncoder()\n",
    "categorical_one_hot = encoder.fit_transform(categorical)\n",
    "categorical_one_hot.toarray()"
   ]
  },
  {
   "cell_type": "markdown",
   "id": "professional-cooking",
   "metadata": {},
   "source": [
    "As for imputation, `sklearn` has a [variety of implementations](https://scikit-learn.org/stable/modules/classes.html#module-sklearn.impute) (corresponding to the techniques we described in class). We will stick to simple median imputation, but feel free to try something different in your custom project."
   ]
  },
  {
   "cell_type": "code",
   "execution_count": 14,
   "id": "growing-penny",
   "metadata": {},
   "outputs": [
    {
     "name": "stdout",
     "output_type": "stream",
     "text": [
      "Num missing before imputation: 167\n",
      "Num missing before imputation: 0\n"
     ]
    }
   ],
   "source": [
    "from sklearn.impute import SimpleImputer\n",
    "\n",
    "# Get columns to transform.\n",
    "numerical_col_names = [c for c in features.columns if c != 'ocean_proximity'] # stored as a separate variable for later.\n",
    "numerical = features[numerical_col_names]\n",
    "\n",
    "# Print missing count\n",
    "print(\"Num missing before imputation:\", np.count_nonzero(np.isnan(numerical)))\n",
    "\n",
    "# Do transformation.\n",
    "imputer = SimpleImputer(strategy=\"median\")\n",
    "imputed_numerical = imputer.fit_transform(numerical)\n",
    "\n",
    "# Print missing count. Should be 0.\n",
    "print(\"Num missing before imputation:\", np.count_nonzero(np.isnan(imputed_numerical)))"
   ]
  },
  {
   "cell_type": "markdown",
   "id": "economic-curve",
   "metadata": {},
   "source": [
    "Take a look at the documentation for [sklearn.preprocessing.StandardScaler](https://scikit-learn.org/stable/modules/generated/sklearn.preprocessing.StandardScaler.html) and use it to normalize numerical columns in `imputed_numerical`."
   ]
  },
  {
   "cell_type": "code",
   "execution_count": 15,
   "id": "mineral-objective",
   "metadata": {},
   "outputs": [
    {
     "name": "stdout",
     "output_type": "stream",
     "text": [
      "       longitude  latitude  housing_median_age  total_rooms  total_bedrooms  \\\n",
      "0      -1.026184  0.492694           -0.367613    -0.024450        0.473161   \n",
      "1      -1.255168  2.663430            1.856594     0.628425        0.674559   \n",
      "2       0.850486 -0.854659            0.426747    -0.389292       -0.140512   \n",
      "3       0.850486 -0.896763            0.585619    -1.121719       -1.178305   \n",
      "4      -0.846980  1.161692           -1.400280     0.237066        0.603477   \n",
      "...          ...       ...                 ...          ...             ...   \n",
      "16507   1.104359 -0.779806           -0.288177    -0.113603       -0.529092   \n",
      "16508   0.671281 -0.695596            1.856594    -0.574456       -0.635714   \n",
      "16509  -1.140676  0.969882           -1.241408     3.189634        1.906642   \n",
      "16510   0.890309 -0.489751           -1.797459     3.483153        3.138725   \n",
      "16511  -0.707598  1.423678           -1.638588     1.037158        0.485007   \n",
      "\n",
      "       population  households  median_income  \n",
      "0        1.604475    0.527124      -0.891248  \n",
      "1        0.264915    0.537584      -0.854774  \n",
      "2        0.259610   -0.155387      -0.552237  \n",
      "3       -1.079066   -1.211839      -0.263220  \n",
      "4        0.599142    0.684023      -0.748915  \n",
      "...           ...         ...            ...  \n",
      "16507   -0.422107   -0.487489       2.286572  \n",
      "16508   -0.613094   -0.683613      -0.071730  \n",
      "16509    2.617766    2.328846       1.470198  \n",
      "16510    4.186334    3.348689       0.001585  \n",
      "16511    0.509838    0.582038       0.819636  \n",
      "\n",
      "[16512 rows x 8 columns]\n"
     ]
    }
   ],
   "source": [
    "from sklearn.preprocessing import StandardScaler\n",
    "\n",
    "# TODO: Do scaling (~2 mins)\n",
    "# Hint: Reuse numerical column names from above\n",
    "encoder = StandardScaler()\n",
    "numerical_encoding = encoder.fit_transform(numerical)\n",
    "df = pd.DataFrame(numerical_encoding, columns=numerical_col_names)\n",
    "print(df)"
   ]
  },
  {
   "cell_type": "markdown",
   "id": "rocky-arabic",
   "metadata": {},
   "source": [
    "`sklearn` has a simple API to chain all of these transformation together. Take a look at the documentation for [sklearn.pipeline.Pipeline](https://scikit-learn.org/stable/modules/generated/sklearn.pipeline.Pipeline.html) and [sklearn.compose.ColumnTransformer](https://scikit-learn.org/stable/modules/generated/sklearn.compose.ColumnTransformer.html)."
   ]
  },
  {
   "cell_type": "code",
   "execution_count": 16,
   "id": "developing-texture",
   "metadata": {},
   "outputs": [
    {
     "data": {
      "text/html": [
       "<div>\n",
       "<style scoped>\n",
       "    .dataframe tbody tr th:only-of-type {\n",
       "        vertical-align: middle;\n",
       "    }\n",
       "\n",
       "    .dataframe tbody tr th {\n",
       "        vertical-align: top;\n",
       "    }\n",
       "\n",
       "    .dataframe thead th {\n",
       "        text-align: right;\n",
       "    }\n",
       "</style>\n",
       "<table border=\"1\" class=\"dataframe\">\n",
       "  <thead>\n",
       "    <tr style=\"text-align: right;\">\n",
       "      <th></th>\n",
       "      <th>0</th>\n",
       "      <th>1</th>\n",
       "      <th>2</th>\n",
       "      <th>3</th>\n",
       "      <th>4</th>\n",
       "      <th>5</th>\n",
       "      <th>6</th>\n",
       "      <th>7</th>\n",
       "      <th>8</th>\n",
       "      <th>9</th>\n",
       "      <th>10</th>\n",
       "      <th>11</th>\n",
       "      <th>12</th>\n",
       "    </tr>\n",
       "  </thead>\n",
       "  <tbody>\n",
       "    <tr>\n",
       "      <th>0</th>\n",
       "      <td>1.0</td>\n",
       "      <td>0.0</td>\n",
       "      <td>0.0</td>\n",
       "      <td>0.0</td>\n",
       "      <td>0.0</td>\n",
       "      <td>-1.026184</td>\n",
       "      <td>0.492694</td>\n",
       "      <td>-0.367613</td>\n",
       "      <td>-0.024450</td>\n",
       "      <td>0.477936</td>\n",
       "      <td>1.604475</td>\n",
       "      <td>0.527124</td>\n",
       "      <td>-0.891248</td>\n",
       "    </tr>\n",
       "    <tr>\n",
       "      <th>1</th>\n",
       "      <td>0.0</td>\n",
       "      <td>1.0</td>\n",
       "      <td>0.0</td>\n",
       "      <td>0.0</td>\n",
       "      <td>0.0</td>\n",
       "      <td>-1.255168</td>\n",
       "      <td>2.663430</td>\n",
       "      <td>1.856594</td>\n",
       "      <td>0.628425</td>\n",
       "      <td>0.680298</td>\n",
       "      <td>0.264915</td>\n",
       "      <td>0.537584</td>\n",
       "      <td>-0.854774</td>\n",
       "    </tr>\n",
       "    <tr>\n",
       "      <th>2</th>\n",
       "      <td>1.0</td>\n",
       "      <td>0.0</td>\n",
       "      <td>0.0</td>\n",
       "      <td>0.0</td>\n",
       "      <td>0.0</td>\n",
       "      <td>0.850486</td>\n",
       "      <td>-0.854659</td>\n",
       "      <td>0.426747</td>\n",
       "      <td>-0.389292</td>\n",
       "      <td>-0.138673</td>\n",
       "      <td>0.259610</td>\n",
       "      <td>-0.155387</td>\n",
       "      <td>-0.552237</td>\n",
       "    </tr>\n",
       "    <tr>\n",
       "      <th>3</th>\n",
       "      <td>1.0</td>\n",
       "      <td>0.0</td>\n",
       "      <td>0.0</td>\n",
       "      <td>0.0</td>\n",
       "      <td>0.0</td>\n",
       "      <td>0.850486</td>\n",
       "      <td>-0.896763</td>\n",
       "      <td>0.585619</td>\n",
       "      <td>-1.121719</td>\n",
       "      <td>-1.181432</td>\n",
       "      <td>-1.079066</td>\n",
       "      <td>-1.211839</td>\n",
       "      <td>-0.263220</td>\n",
       "    </tr>\n",
       "    <tr>\n",
       "      <th>4</th>\n",
       "      <td>0.0</td>\n",
       "      <td>1.0</td>\n",
       "      <td>0.0</td>\n",
       "      <td>0.0</td>\n",
       "      <td>0.0</td>\n",
       "      <td>-0.846980</td>\n",
       "      <td>1.161692</td>\n",
       "      <td>-1.400280</td>\n",
       "      <td>0.237066</td>\n",
       "      <td>0.608876</td>\n",
       "      <td>0.599142</td>\n",
       "      <td>0.684023</td>\n",
       "      <td>-0.748915</td>\n",
       "    </tr>\n",
       "    <tr>\n",
       "      <th>...</th>\n",
       "      <td>...</td>\n",
       "      <td>...</td>\n",
       "      <td>...</td>\n",
       "      <td>...</td>\n",
       "      <td>...</td>\n",
       "      <td>...</td>\n",
       "      <td>...</td>\n",
       "      <td>...</td>\n",
       "      <td>...</td>\n",
       "      <td>...</td>\n",
       "      <td>...</td>\n",
       "      <td>...</td>\n",
       "      <td>...</td>\n",
       "    </tr>\n",
       "    <tr>\n",
       "      <th>16507</th>\n",
       "      <td>0.0</td>\n",
       "      <td>1.0</td>\n",
       "      <td>0.0</td>\n",
       "      <td>0.0</td>\n",
       "      <td>0.0</td>\n",
       "      <td>1.104359</td>\n",
       "      <td>-0.779806</td>\n",
       "      <td>-0.288177</td>\n",
       "      <td>-0.113603</td>\n",
       "      <td>-0.529112</td>\n",
       "      <td>-0.422107</td>\n",
       "      <td>-0.487489</td>\n",
       "      <td>2.286572</td>\n",
       "    </tr>\n",
       "    <tr>\n",
       "      <th>16508</th>\n",
       "      <td>1.0</td>\n",
       "      <td>0.0</td>\n",
       "      <td>0.0</td>\n",
       "      <td>0.0</td>\n",
       "      <td>0.0</td>\n",
       "      <td>0.671281</td>\n",
       "      <td>-0.695596</td>\n",
       "      <td>1.856594</td>\n",
       "      <td>-0.574456</td>\n",
       "      <td>-0.636245</td>\n",
       "      <td>-0.613094</td>\n",
       "      <td>-0.683613</td>\n",
       "      <td>-0.071730</td>\n",
       "    </tr>\n",
       "    <tr>\n",
       "      <th>16509</th>\n",
       "      <td>0.0</td>\n",
       "      <td>1.0</td>\n",
       "      <td>0.0</td>\n",
       "      <td>0.0</td>\n",
       "      <td>0.0</td>\n",
       "      <td>-1.140676</td>\n",
       "      <td>0.969882</td>\n",
       "      <td>-1.241408</td>\n",
       "      <td>3.189634</td>\n",
       "      <td>1.918277</td>\n",
       "      <td>2.617766</td>\n",
       "      <td>2.328846</td>\n",
       "      <td>1.470198</td>\n",
       "    </tr>\n",
       "    <tr>\n",
       "      <th>16510</th>\n",
       "      <td>0.0</td>\n",
       "      <td>1.0</td>\n",
       "      <td>0.0</td>\n",
       "      <td>0.0</td>\n",
       "      <td>0.0</td>\n",
       "      <td>0.890309</td>\n",
       "      <td>-0.489751</td>\n",
       "      <td>-1.797459</td>\n",
       "      <td>3.483153</td>\n",
       "      <td>3.156256</td>\n",
       "      <td>4.186334</td>\n",
       "      <td>3.348689</td>\n",
       "      <td>0.001585</td>\n",
       "    </tr>\n",
       "    <tr>\n",
       "      <th>16511</th>\n",
       "      <td>0.0</td>\n",
       "      <td>1.0</td>\n",
       "      <td>0.0</td>\n",
       "      <td>0.0</td>\n",
       "      <td>0.0</td>\n",
       "      <td>-0.707598</td>\n",
       "      <td>1.423678</td>\n",
       "      <td>-1.638588</td>\n",
       "      <td>1.037158</td>\n",
       "      <td>0.489840</td>\n",
       "      <td>0.509838</td>\n",
       "      <td>0.582038</td>\n",
       "      <td>0.819636</td>\n",
       "    </tr>\n",
       "  </tbody>\n",
       "</table>\n",
       "<p>16512 rows × 13 columns</p>\n",
       "</div>"
      ],
      "text/plain": [
       "        0    1    2    3    4         5         6         7         8   \\\n",
       "0      1.0  0.0  0.0  0.0  0.0 -1.026184  0.492694 -0.367613 -0.024450   \n",
       "1      0.0  1.0  0.0  0.0  0.0 -1.255168  2.663430  1.856594  0.628425   \n",
       "2      1.0  0.0  0.0  0.0  0.0  0.850486 -0.854659  0.426747 -0.389292   \n",
       "3      1.0  0.0  0.0  0.0  0.0  0.850486 -0.896763  0.585619 -1.121719   \n",
       "4      0.0  1.0  0.0  0.0  0.0 -0.846980  1.161692 -1.400280  0.237066   \n",
       "...    ...  ...  ...  ...  ...       ...       ...       ...       ...   \n",
       "16507  0.0  1.0  0.0  0.0  0.0  1.104359 -0.779806 -0.288177 -0.113603   \n",
       "16508  1.0  0.0  0.0  0.0  0.0  0.671281 -0.695596  1.856594 -0.574456   \n",
       "16509  0.0  1.0  0.0  0.0  0.0 -1.140676  0.969882 -1.241408  3.189634   \n",
       "16510  0.0  1.0  0.0  0.0  0.0  0.890309 -0.489751 -1.797459  3.483153   \n",
       "16511  0.0  1.0  0.0  0.0  0.0 -0.707598  1.423678 -1.638588  1.037158   \n",
       "\n",
       "             9         10        11        12  \n",
       "0      0.477936  1.604475  0.527124 -0.891248  \n",
       "1      0.680298  0.264915  0.537584 -0.854774  \n",
       "2     -0.138673  0.259610 -0.155387 -0.552237  \n",
       "3     -1.181432 -1.079066 -1.211839 -0.263220  \n",
       "4      0.608876  0.599142  0.684023 -0.748915  \n",
       "...         ...       ...       ...       ...  \n",
       "16507 -0.529112 -0.422107 -0.487489  2.286572  \n",
       "16508 -0.636245 -0.613094 -0.683613 -0.071730  \n",
       "16509  1.918277  2.617766  2.328846  1.470198  \n",
       "16510  3.156256  4.186334  3.348689  0.001585  \n",
       "16511  0.489840  0.509838  0.582038  0.819636  \n",
       "\n",
       "[16512 rows x 13 columns]"
      ]
     },
     "execution_count": 16,
     "metadata": {},
     "output_type": "execute_result"
    }
   ],
   "source": [
    "from sklearn.compose import ColumnTransformer\n",
    "from sklearn.pipeline import Pipeline\n",
    "\n",
    "\n",
    "# Categorical Pipeline\n",
    "categorical_pipeline = Pipeline([\n",
    "    (\"one_hot_encoder\", OneHotEncoder()),\n",
    "])\n",
    "\n",
    "# TODO live: Numerical Pipeline\n",
    "numerical_pipeline = Pipeline([\n",
    "    (\"imputer\", SimpleImputer(strategy=\"median\")),\n",
    "    (\"scaler\", StandardScaler()),\n",
    "])\n",
    "\n",
    "\n",
    "# Full transformation\n",
    "feature_transformer = ColumnTransformer([\n",
    "    # Categorical\n",
    "    (\"categorical\", categorical_pipeline, categorical_col_names),\n",
    "    (\"numerical\", numerical_pipeline, numerical_col_names),\n",
    "])\n",
    "\n",
    "features_prepped = feature_transformer.fit_transform(features)\n",
    "pd.DataFrame(features_prepped)"
   ]
  },
  {
   "cell_type": "markdown",
   "id": "acceptable-narrative",
   "metadata": {},
   "source": [
    "Finally, we need to encode label (LOW=i, MEDIUM=j, HIGH=k) to satisfy `sklearn`."
   ]
  },
  {
   "cell_type": "code",
   "execution_count": 17,
   "id": "governmental-friendship",
   "metadata": {},
   "outputs": [
    {
     "data": {
      "text/plain": [
       "array([1, 2, 0])"
      ]
     },
     "execution_count": 17,
     "metadata": {},
     "output_type": "execute_result"
    }
   ],
   "source": [
    "from sklearn.preprocessing import LabelEncoder\n",
    "\n",
    "# Encode labels\n",
    "label_encoder = LabelEncoder()\n",
    "target_prepped = label_encoder.fit_transform(target)\n",
    "pd.Series(target_prepped).unique()"
   ]
  },
  {
   "cell_type": "markdown",
   "id": "moving-hours",
   "metadata": {},
   "source": [
    "The data is now ready for ML models."
   ]
  },
  {
   "cell_type": "markdown",
   "id": "static-university",
   "metadata": {},
   "source": [
    "## Training and Validation\n",
    "We'll now have to train and validate a few models to find the best performing one.\n",
    "We start with the simple kind of model: linear classifier. We will then give you a few minutes to try out gradient boosted trees.\n",
    "\n",
    "Training a model is simple with `sklearn`."
   ]
  },
  {
   "cell_type": "code",
   "execution_count": 18,
   "id": "funded-mother",
   "metadata": {},
   "outputs": [
    {
     "data": {
      "text/plain": [
       "SGDClassifier()"
      ]
     },
     "execution_count": 18,
     "metadata": {},
     "output_type": "execute_result"
    }
   ],
   "source": [
    "from sklearn.linear_model import SGDClassifier\n",
    "\n",
    "# Train model\n",
    "lin_sgd = SGDClassifier(loss='hinge')\n",
    "lin_sgd.fit(features_prepped, target_prepped)"
   ]
  },
  {
   "cell_type": "markdown",
   "id": "beneficial-whale",
   "metadata": {},
   "source": [
    "Performing predictions is equally easy."
   ]
  },
  {
   "cell_type": "code",
   "execution_count": 19,
   "id": "cardiac-indication",
   "metadata": {},
   "outputs": [
    {
     "data": {
      "text/plain": [
       "array(['MEDIUM', 'MEDIUM', 'LOW', 'LOW', 'MEDIUM', 'LOW', 'LOW', 'MEDIUM',\n",
       "       'MEDIUM', 'MEDIUM'], dtype=object)"
      ]
     },
     "execution_count": 19,
     "metadata": {},
     "output_type": "execute_result"
    }
   ],
   "source": [
    "# Get some random input\n",
    "sample = housing.sample(n=10, random_state=1)\n",
    "\n",
    "# Tranform input\n",
    "sample_prepped = feature_transformer.transform(sample)\n",
    "# Make prediction\n",
    "prediction = lin_sgd.predict(sample_prepped)\n",
    "# Decode prediction\n",
    "label_encoder.inverse_transform(prediction)"
   ]
  },
  {
   "cell_type": "markdown",
   "id": "contrary-enterprise",
   "metadata": {},
   "source": [
    "---\n",
    "Let's validate the efficacy of the linear model. `sklearn` provides builtin k-fold cross-validation.  \n",
    "**Q: Briefly explain what k-fold cross-validation is and why it's used?**"
   ]
  },
  {
   "cell_type": "code",
   "execution_count": 20,
   "id": "worldwide-garden",
   "metadata": {},
   "outputs": [
    {
     "name": "stdout",
     "output_type": "stream",
     "text": [
      "Accuracy: 76.83% (0.93%)\n"
     ]
    }
   ],
   "source": [
    "from sklearn.model_selection import cross_val_score, KFold\n",
    "\n",
    "# Create model\n",
    "lin_sgd = SGDClassifier(loss='hinge')\n",
    "\n",
    "# Do cross validation\n",
    "# The cv parameter is the number of cross-validation splits.\n",
    "kfold = KFold(n_splits=10, shuffle=True, random_state=37)\n",
    "scores = cross_val_score(lin_sgd, features_prepped, target_prepped, cv=kfold)\n",
    "print(\"Accuracy: %.2f%% (%.2f%%)\" % (scores.mean()*100, scores.std()*100))"
   ]
  },
  {
   "cell_type": "markdown",
   "id": "unnecessary-specific",
   "metadata": {},
   "source": [
    "We get a validation accuracy of ~$76\\%$. This may or may not be ok depending on your application. Try `xgboost.XGBClassifier`."
   ]
  },
  {
   "cell_type": "code",
   "execution_count": 21,
   "id": "traditional-latter",
   "metadata": {},
   "outputs": [
    {
     "name": "stdout",
     "output_type": "stream",
     "text": [
      "Accuracy: 85.58% (0.73%)\n"
     ]
    }
   ],
   "source": [
    "from xgboost import XGBClassifier\n",
    "\n",
    "# You'll need at least these  flags \n",
    "xgb_cls = XGBClassifier(eval_metric='mlogloss', use_label_encoder=False)\n",
    "\n",
    "kfold = KFold(n_splits=10, shuffle=True, random_state=37)\n",
    "scores = cross_val_score(xgb_cls, features_prepped, target_prepped, cv=kfold)\n",
    "print(\"Accuracy: %.2f%% (%.2f%%)\" % (scores.mean()*100, scores.std()*100))\n"
   ]
  },
  {
   "cell_type": "markdown",
   "id": "center-worth",
   "metadata": {},
   "source": [
    "You should have obtained an accuracy better than before.  \n",
    "**Q: Why do think `xgboost` performs better than linear SGD?**\n",
    "\n",
    "---\n",
    "\n",
    "**Q: Given a model, how should we tune it to improve training performance?**"
   ]
  },
  {
   "cell_type": "markdown",
   "id": "rental-indianapolis",
   "metadata": {},
   "source": [
    "## Testing\n",
    "We can now test our model to see how well it performs in the \"real-world\".  \n",
    "**Q: Why can't we compare our models in the testing phase?**.\n",
    "\n",
    "Fill-in the following code."
   ]
  },
  {
   "cell_type": "code",
   "execution_count": 22,
   "id": "legislative-coupon",
   "metadata": {},
   "outputs": [
    {
     "ename": "NotFittedError",
     "evalue": "need to call fit or load_model beforehand",
     "output_type": "error",
     "traceback": [
      "\u001b[0;31m---------------------------------------------------------------------------\u001b[0m",
      "\u001b[0;31mNotFittedError\u001b[0m                            Traceback (most recent call last)",
      "\u001b[0;32m/var/folders/rl/lgyh370n0l93r74pf4mv69q40000gn/T/ipykernel_6646/900963139.py\u001b[0m in \u001b[0;36m<module>\u001b[0;34m\u001b[0m\n\u001b[1;32m      7\u001b[0m \u001b[0mtest_features_prepped\u001b[0m \u001b[0;34m=\u001b[0m \u001b[0mfeature_transformer\u001b[0m\u001b[0;34m.\u001b[0m\u001b[0mtransform\u001b[0m\u001b[0;34m(\u001b[0m\u001b[0mtest_features\u001b[0m\u001b[0;34m)\u001b[0m\u001b[0;34m\u001b[0m\u001b[0;34m\u001b[0m\u001b[0m\n\u001b[1;32m      8\u001b[0m \u001b[0;34m\u001b[0m\u001b[0m\n\u001b[0;32m----> 9\u001b[0;31m \u001b[0mtest_predictions\u001b[0m \u001b[0;34m=\u001b[0m \u001b[0mxgb_cls\u001b[0m\u001b[0;34m.\u001b[0m\u001b[0mpredict\u001b[0m\u001b[0;34m(\u001b[0m\u001b[0mtest_features_prepped\u001b[0m\u001b[0;34m)\u001b[0m\u001b[0;34m\u001b[0m\u001b[0;34m\u001b[0m\u001b[0m\n\u001b[0m\u001b[1;32m     10\u001b[0m \u001b[0maccuracy\u001b[0m \u001b[0;34m=\u001b[0m \u001b[0maccuracy_score\u001b[0m\u001b[0;34m(\u001b[0m\u001b[0mtest_target_prepped\u001b[0m\u001b[0;34m,\u001b[0m \u001b[0mtest_predictions\u001b[0m\u001b[0;34m)\u001b[0m\u001b[0;34m\u001b[0m\u001b[0;34m\u001b[0m\u001b[0m\n\u001b[1;32m     11\u001b[0m \u001b[0mprint\u001b[0m\u001b[0;34m(\u001b[0m\u001b[0;34mf\"Accuracy: {100*accuracy:.2f}%\"\u001b[0m\u001b[0;34m)\u001b[0m\u001b[0;34m\u001b[0m\u001b[0;34m\u001b[0m\u001b[0m\n",
      "\u001b[0;32m~/anaconda3/envs/6s079/lib/python3.9/site-packages/xgboost/sklearn.py\u001b[0m in \u001b[0;36mpredict\u001b[0;34m(self, X, output_margin, ntree_limit, validate_features, base_margin, iteration_range)\u001b[0m\n\u001b[1;32m   1282\u001b[0m         \u001b[0miteration_range\u001b[0m\u001b[0;34m:\u001b[0m \u001b[0mOptional\u001b[0m\u001b[0;34m[\u001b[0m\u001b[0mTuple\u001b[0m\u001b[0;34m[\u001b[0m\u001b[0mint\u001b[0m\u001b[0;34m,\u001b[0m \u001b[0mint\u001b[0m\u001b[0;34m]\u001b[0m\u001b[0;34m]\u001b[0m \u001b[0;34m=\u001b[0m \u001b[0;32mNone\u001b[0m\u001b[0;34m,\u001b[0m\u001b[0;34m\u001b[0m\u001b[0;34m\u001b[0m\u001b[0m\n\u001b[1;32m   1283\u001b[0m     ) -> np.ndarray:\n\u001b[0;32m-> 1284\u001b[0;31m         class_probs = super().predict(\n\u001b[0m\u001b[1;32m   1285\u001b[0m             \u001b[0mX\u001b[0m\u001b[0;34m=\u001b[0m\u001b[0mX\u001b[0m\u001b[0;34m,\u001b[0m\u001b[0;34m\u001b[0m\u001b[0;34m\u001b[0m\u001b[0m\n\u001b[1;32m   1286\u001b[0m             \u001b[0moutput_margin\u001b[0m\u001b[0;34m=\u001b[0m\u001b[0moutput_margin\u001b[0m\u001b[0;34m,\u001b[0m\u001b[0;34m\u001b[0m\u001b[0;34m\u001b[0m\u001b[0m\n",
      "\u001b[0;32m~/anaconda3/envs/6s079/lib/python3.9/site-packages/xgboost/sklearn.py\u001b[0m in \u001b[0;36mpredict\u001b[0;34m(self, X, output_margin, ntree_limit, validate_features, base_margin, iteration_range)\u001b[0m\n\u001b[1;32m    874\u001b[0m         \"\"\"\n\u001b[1;32m    875\u001b[0m         iteration_range = _convert_ntree_limit(\n\u001b[0;32m--> 876\u001b[0;31m             \u001b[0mself\u001b[0m\u001b[0;34m.\u001b[0m\u001b[0mget_booster\u001b[0m\u001b[0;34m(\u001b[0m\u001b[0;34m)\u001b[0m\u001b[0;34m,\u001b[0m \u001b[0mntree_limit\u001b[0m\u001b[0;34m,\u001b[0m \u001b[0miteration_range\u001b[0m\u001b[0;34m\u001b[0m\u001b[0;34m\u001b[0m\u001b[0m\n\u001b[0m\u001b[1;32m    877\u001b[0m         )\n\u001b[1;32m    878\u001b[0m         \u001b[0miteration_range\u001b[0m \u001b[0;34m=\u001b[0m \u001b[0mself\u001b[0m\u001b[0;34m.\u001b[0m\u001b[0m_get_iteration_range\u001b[0m\u001b[0;34m(\u001b[0m\u001b[0miteration_range\u001b[0m\u001b[0;34m)\u001b[0m\u001b[0;34m\u001b[0m\u001b[0;34m\u001b[0m\u001b[0m\n",
      "\u001b[0;32m~/anaconda3/envs/6s079/lib/python3.9/site-packages/xgboost/sklearn.py\u001b[0m in \u001b[0;36mget_booster\u001b[0;34m(self)\u001b[0m\n\u001b[1;32m    457\u001b[0m         \u001b[0;32mif\u001b[0m \u001b[0;32mnot\u001b[0m \u001b[0mself\u001b[0m\u001b[0;34m.\u001b[0m\u001b[0m__sklearn_is_fitted__\u001b[0m\u001b[0;34m(\u001b[0m\u001b[0;34m)\u001b[0m\u001b[0;34m:\u001b[0m\u001b[0;34m\u001b[0m\u001b[0;34m\u001b[0m\u001b[0m\n\u001b[1;32m    458\u001b[0m             \u001b[0;32mfrom\u001b[0m \u001b[0msklearn\u001b[0m\u001b[0;34m.\u001b[0m\u001b[0mexceptions\u001b[0m \u001b[0;32mimport\u001b[0m \u001b[0mNotFittedError\u001b[0m\u001b[0;34m\u001b[0m\u001b[0;34m\u001b[0m\u001b[0m\n\u001b[0;32m--> 459\u001b[0;31m             \u001b[0;32mraise\u001b[0m \u001b[0mNotFittedError\u001b[0m\u001b[0;34m(\u001b[0m\u001b[0;34m'need to call fit or load_model beforehand'\u001b[0m\u001b[0;34m)\u001b[0m\u001b[0;34m\u001b[0m\u001b[0;34m\u001b[0m\u001b[0m\n\u001b[0m\u001b[1;32m    460\u001b[0m         \u001b[0;32mreturn\u001b[0m \u001b[0mself\u001b[0m\u001b[0;34m.\u001b[0m\u001b[0m_Booster\u001b[0m\u001b[0;34m\u001b[0m\u001b[0;34m\u001b[0m\u001b[0m\n\u001b[1;32m    461\u001b[0m \u001b[0;34m\u001b[0m\u001b[0m\n",
      "\u001b[0;31mNotFittedError\u001b[0m: need to call fit or load_model beforehand"
     ]
    }
   ],
   "source": [
    "from sklearn.metrics import accuracy_score\n",
    "\n",
    "test_target = test_set['house_value_class']\n",
    "test_features = test_set.drop('house_value_class', axis=1)\n",
    "\n",
    "test_target_prepped = label_encoder.transform(test_target)\n",
    "test_features_prepped = feature_transformer.transform(test_features)\n",
    "\n",
    "test_predictions = xgb_cls.predict(test_features_prepped)\n",
    "accuracy = accuracy_score(test_target_prepped, test_predictions)\n",
    "print(f\"Accuracy: {100*accuracy:.2f}%\")"
   ]
  },
  {
   "cell_type": "markdown",
   "id": "monetary-forge",
   "metadata": {},
   "source": [
    "Thanks to k-fold cross validation, you should see that your test error is fairly similar to your validation error. K-fold cross validation allows to predict performance on unseen data, as long its distribution is reasonably similar to the training data."
   ]
  },
  {
   "cell_type": "markdown",
   "id": "a08a391a-4d49-47da-9395-03437a5aa11a",
   "metadata": {},
   "source": [
    "# Go your own Way\n",
    "Now pick any dataset of your choosing, and and roughly follow the steps above"
   ]
  },
  {
   "cell_type": "code",
   "execution_count": 31,
   "id": "bc0e0af3-4487-477f-8836-a18accf90735",
   "metadata": {},
   "outputs": [],
   "source": [
    "import pandas as pd\n",
    "\n",
    "df = pd.read_csv('iris.csv').drop(['Id'], axis=1)\n"
   ]
  },
  {
   "cell_type": "markdown",
   "id": "ef893fd9",
   "metadata": {},
   "source": [
    "First we do a brief exploratory analysis"
   ]
  },
  {
   "cell_type": "code",
   "execution_count": 32,
   "id": "28fdd40d",
   "metadata": {},
   "outputs": [
    {
     "name": "stdout",
     "output_type": "stream",
     "text": [
      "<class 'pandas.core.frame.DataFrame'>\n",
      "RangeIndex: 150 entries, 0 to 149\n",
      "Data columns (total 5 columns):\n",
      " #   Column         Non-Null Count  Dtype  \n",
      "---  ------         --------------  -----  \n",
      " 0   SepalLengthCm  150 non-null    float64\n",
      " 1   SepalWidthCm   150 non-null    float64\n",
      " 2   PetalLengthCm  150 non-null    float64\n",
      " 3   PetalWidthCm   150 non-null    float64\n",
      " 4   Species        150 non-null    object \n",
      "dtypes: float64(4), object(1)\n",
      "memory usage: 6.0+ KB\n"
     ]
    }
   ],
   "source": [
    "df.info()"
   ]
  },
  {
   "cell_type": "code",
   "execution_count": 33,
   "id": "be4500f9",
   "metadata": {},
   "outputs": [
    {
     "data": {
      "text/plain": [
       "<AxesSubplot:>"
      ]
     },
     "execution_count": 33,
     "metadata": {},
     "output_type": "execute_result"
    },
    {
     "data": {
      "image/png": "[encoded data removed]",
      "text/plain": [
       "<Figure size 432x288 with 1 Axes>"
      ]
     },
     "metadata": {
      "needs_background": "light"
     },
     "output_type": "display_data"
    }
   ],
   "source": [
    "df.Species.value_counts().plot(kind='bar')"
   ]
  },
  {
   "cell_type": "markdown",
   "id": "8095b211",
   "metadata": {},
   "source": [
    "Cool, the dataset is perfectly balanced across the species. Next let's look at the distribution of the input parameters."
   ]
  },
  {
   "cell_type": "code",
   "execution_count": 35,
   "id": "ab745227",
   "metadata": {},
   "outputs": [
    {
     "data": {
      "text/plain": [
       "array([[<AxesSubplot:title={'center':'SepalLengthCm'}>,\n",
       "        <AxesSubplot:title={'center':'SepalWidthCm'}>],\n",
       "       [<AxesSubplot:title={'center':'PetalLengthCm'}>,\n",
       "        <AxesSubplot:title={'center':'PetalWidthCm'}>]], dtype=object)"
      ]
     },
     "execution_count": 35,
     "metadata": {},
     "output_type": "execute_result"
    },
    {
     "data": {
      "image/png": "[encoded data removed]",
      "text/plain": [
       "<Figure size 1440x1080 with 4 Axes>"
      ]
     },
     "metadata": {
      "needs_background": "light"
     },
     "output_type": "display_data"
    }
   ],
   "source": [
    "\n",
    "df.hist(bins=50, figsize=(20, 15))"
   ]
  },
  {
   "cell_type": "markdown",
   "id": "6feea209",
   "metadata": {},
   "source": [
    "Now let's check for missing values, as it seems all of the above values are within a reasonable range without outliers. Time for data preparation, we will normalize all of the fields to values between 0 and 1."
   ]
  },
  {
   "cell_type": "code",
   "execution_count": 44,
   "id": "4401ebfa",
   "metadata": {},
   "outputs": [],
   "source": [
    "normalized_df = df.copy()\n",
    "for col in df._get_numeric_data().columns:\n",
    "    normalized_df[col] = (df[col] - df[col].min()) / (df[col].max() - df[col].min())\n",
    "\n",
    "label_encoder = LabelEncoder()\n",
    "normalized_df.Species = label_encoder.fit_transform(df.Species)"
   ]
  },
  {
   "cell_type": "code",
   "execution_count": 42,
   "id": "d5e59f66",
   "metadata": {},
   "outputs": [
    {
     "data": {
      "text/plain": [
       "array([[<AxesSubplot:title={'center':'SepalLengthCm'}>,\n",
       "        <AxesSubplot:title={'center':'SepalWidthCm'}>],\n",
       "       [<AxesSubplot:title={'center':'PetalLengthCm'}>,\n",
       "        <AxesSubplot:title={'center':'PetalWidthCm'}>]], dtype=object)"
      ]
     },
     "execution_count": 42,
     "metadata": {},
     "output_type": "execute_result"
    },
    {
     "data": {
      "image/png": "[encoded data removed]",
      "text/plain": [
       "<Figure size 1440x1080 with 4 Axes>"
      ]
     },
     "metadata": {
      "needs_background": "light"
     },
     "output_type": "display_data"
    }
   ],
   "source": [
    "normalized_df.hist(bins=50, figsize=(20, 15))"
   ]
  },
  {
   "cell_type": "code",
   "execution_count": 43,
   "id": "bb699236",
   "metadata": {},
   "outputs": [
    {
     "name": "stdout",
     "output_type": "stream",
     "text": [
      "There are 0 missing values.\n"
     ]
    }
   ],
   "source": [
    "\n",
    "\n",
    "print(f\"There are {len(df) - len(df.dropna())} missing values.\")"
   ]
  },
  {
   "cell_type": "markdown",
   "id": "bbce19c8",
   "metadata": {},
   "source": [
    "Hurrah, looks like no imputation will be necessary! Now let's test several models with cross validation:\n",
    "\n",
    "Model #1: Linear SGD Classifier"
   ]
  },
  {
   "cell_type": "code",
   "execution_count": 46,
   "id": "66906187",
   "metadata": {},
   "outputs": [
    {
     "name": "stdout",
     "output_type": "stream",
     "text": [
      "Accuracy: 85.33% (8.33%)\n"
     ]
    }
   ],
   "source": [
    "from sklearn.model_selection import cross_val_score, KFold\n",
    "# Create model\n",
    "lin_sgd = SGDClassifier(loss='hinge')\n",
    "\n",
    "# Do cross validation\n",
    "# The cv parameter is the number of cross-validation splits.\n",
    "kfold = KFold(n_splits=10, shuffle=True, random_state=37)\n",
    "scores = cross_val_score(lin_sgd, normalized_df.drop(['Species'], axis=1), normalized_df.Species, cv=kfold)\n",
    "print(\"Accuracy: %.2f%% (%.2f%%)\" % (scores.mean()*100, scores.std()*100))\n",
    "\n"
   ]
  },
  {
   "cell_type": "code",
   "execution_count": 47,
   "id": "569506e4",
   "metadata": {},
   "outputs": [
    {
     "name": "stdout",
     "output_type": "stream",
     "text": [
      "Accuracy: 90.67% (12.00%)\n"
     ]
    }
   ],
   "source": [
    "# Create model\n",
    "xgb_cls = XGBClassifier(eval_metric='mlogloss', use_label_encoder=False)\n",
    "\n",
    "# Do cross validation\n",
    "# The cv parameter is the number of cross-validation splits.\n",
    "kfold = KFold(n_splits=10, shuffle=True, random_state=37)\n",
    "scores = cross_val_score(lin_sgd, normalized_df.drop(['Species'], axis=1), normalized_df.Species, cv=kfold)\n",
    "print(\"Accuracy: %.2f%% (%.2f%%)\" % (scores.mean()*100, scores.std()*100))"
   ]
  },
  {
   "cell_type": "code",
   "execution_count": 48,
   "id": "7c6f2518",
   "metadata": {},
   "outputs": [
    {
     "name": "stdout",
     "output_type": "stream",
     "text": [
      "Accuracy: 92.67% (5.54%)\n"
     ]
    }
   ],
   "source": [
    "\n",
    "from sklearn.neural_network import MLPClassifier\n",
    "\n",
    "mlp_cls = MLPClassifier(hidden_layer_sizes=(100,), max_iter=500)\n",
    "\n",
    "# Do cross validation\n",
    "# The cv parameter is the number of cross-validation splits.\n",
    "kfold = KFold(n_splits=10, shuffle=True, random_state=37)\n",
    "scores = cross_val_score(lin_sgd, normalized_df.drop(['Species'], axis=1), normalized_df.Species, cv=kfold)\n",
    "print(\"Accuracy: %.2f%% (%.2f%%)\" % (scores.mean()*100, scores.std()*100))"
   ]
  }
 ],
 "metadata": {
  "kernelspec": {
   "display_name": "Python 3 (ipykernel)",
   "language": "python",
   "name": "python3"
  },
  "language_info": {
   "codemirror_mode": {
    "name": "ipython",
    "version": 3
   },
   "file_extension": ".py",
   "mimetype": "text/x-python",
   "name": "python",
   "nbconvert_exporter": "python",
   "pygments_lexer": "ipython3",
   "version": "3.9.7"
  }
 },
 "nbformat": 4,
 "nbformat_minor": 5
}
